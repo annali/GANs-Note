{
 "cells": [
  {
   "cell_type": "markdown",
   "metadata": {},
   "source": [
    "# Generative Adversarial Nets"
   ]
  },
  {
   "cell_type": "markdown",
   "metadata": {},
   "source": [
    "[論文:Generative Adversarial Nets](https://github.com/annali/GANs-Note/blob/master/papers/Generative%20Adversarial%20Nets.pdf)"
   ]
  },
  {
   "cell_type": "markdown",
   "metadata": {},
   "source": [
    "- G（Generator）：模擬數據分佈，目的是最大化D犯錯的概率\n",
    "- D（Discriminator）：估計一個樣本來自訓練集的概率，目的是最小化D犯錯的概率\n",
    "- 最後達到1/2的平衡狀態"
   ]
  },
  {
   "cell_type": "markdown",
   "metadata": {},
   "source": [
    "- G和D由multilayer perceptrons定義\n",
    "- 系統可以使用backpropagation訓練\n",
    "- 訓練或產生樣本的時候不需要Markov chains或者unrolled approximate inference networks"
   ]
  },
  {
   "cell_type": "markdown",
   "metadata": {},
   "source": [
    "##### 本論文實驗通過對生成的樣品進行定性和定量評估來證明該框架的潛力"
   ]
  },
  {
   "cell_type": "markdown",
   "metadata": {},
   "source": [
    "### Experiments"
   ]
  },
  {
   "cell_type": "markdown",
   "metadata": {},
   "source": [
    "- Dataset：MNIST，Toronto Face，CIFAR-10\n",
    "- G(Generator)：RELU激活函數和sigmoid激活函數\n",
    "- D(Discriminator)：maxout激活函數"
   ]
  },
  {
   "cell_type": "markdown",
   "metadata": {},
   "source": [
    "### Advantages and disadvantages\n",
    "#### 優勢\n",
    "- 不需要Markov chains，僅用反向傳播來獲得梯度，學習間無需推理，且模型中可融入多種function\n",
    "\n",
    "#### 列勢\n",
    "- 主要為pg(x) 的隱式表示，且訓練期間，D和G必須很好地同步（尤其，不更新D時G不必過度訓練，為避免\"Helvetica情景\"。否則x值相同時G丟失過多z值以至於模型pdata多樣性不足）\n"
   ]
  },
  {
   "cell_type": "markdown",
   "metadata": {},
   "source": [
    "### Conclusions and future work"
   ]
  },
  {
   "cell_type": "markdown",
   "metadata": {},
   "source": [
    "- 通過添加c作為G和D的輸入，得到條件生成模型p(x|c)。\n",
    "- 給定x，通過訓練，學習近似推理，預測z。這和wake-sleep算法訓練的推理網絡相似，但是有一個優點：推理網絡用於在G結束訓練之後的固定的G。\n",
    "- 可以通過訓練共享參數的條件模型族來近似地模擬所有條件p（xS |x̸S），其中S是x的索引的子集。實質上，可以使用對抗網來實現確定性MP-DBM的隨機擴展\n",
    "- 半監督學習：當有限的標記數據可用時，從D或者推理網絡的特徵可以提高分類器的性能。\n",
    "- 效率提高：通過劃分協調G和D的方法或者在訓練期間確定更好的樣本z的分佈，可以加快訓練速度。"
   ]
  },
  {
   "cell_type": "code",
   "execution_count": null,
   "metadata": {},
   "outputs": [],
   "source": []
  }
 ],
 "metadata": {
  "kernelspec": {
   "display_name": "Python 3",
   "language": "python",
   "name": "python3"
  },
  "language_info": {
   "codemirror_mode": {
    "name": "ipython",
    "version": 3
   },
   "file_extension": ".py",
   "mimetype": "text/x-python",
   "name": "python",
   "nbconvert_exporter": "python",
   "pygments_lexer": "ipython3",
   "version": "3.6.4"
  }
 },
 "nbformat": 4,
 "nbformat_minor": 2
}
