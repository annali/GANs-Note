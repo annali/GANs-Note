{
 "cells": [
  {
   "cell_type": "markdown",
   "metadata": {},
   "source": [
    "# Generative Adversarial Networks: An Overview"
   ]
  },
  {
   "cell_type": "markdown",
   "metadata": {},
   "source": [
    "[論文:Generative Adversarial Networks: An Overview](https://github.com/annali/GANs-Note/blob/master/papers/Generative%20Adversarial%20Networks-%20An%20Overview.pdf)"
   ]
  },
  {
   "cell_type": "markdown",
   "metadata": {},
   "source": [
    "- 這篇論文的目的是為訊號處理社群做一個 GAN 的概觀彙整。除了介紹訓練和構建 GAN 的不同方法以外，還討論了其理論和應用中尚存在的挑戰。\n",
    "- GAN 學習的表徵可用於多種應用，包括影象合成、語義影象編輯、風格遷移、影象超解析度技術和分類。"
   ]
  },
  {
   "cell_type": "markdown",
   "metadata": {},
   "source": [
    "### Anna主要是進行以下了解:\n",
    "- GAN Architectures\n",
    "- The Structure of  Latent Space \n",
    "- Applications of GANs"
   ]
  },
  {
   "cell_type": "markdown",
   "metadata": {},
   "source": [
    "### GAN Architectures"
   ]
  },
  {
   "cell_type": "markdown",
   "metadata": {},
   "source": [
    "- Fully Connected GANs\n",
    "> - The first GAN architectures used fully connected neural networks for both the generator and discriminator\n",
    "> - Dataset : MNIST , CIFAR-10 , Toronto Face Dataset\n",
    "- Convolutional GANs\n",
    "> - The Laplacian pyramid of adversarial networks (LAP- GAN)offered one solution to this problem, by decomposing the generation process using multiple scales\n",
    "> - DCGAN (for “deep convolutional GAN”) which allows training a pair of deep convolutional generator and discriminator networks.\n",
    "- Conditional GANs\n",
    "> - Extended the (2D) GAN framework to the conditional setting by making both the generator and the discriminator networks class-conditional\n",
    "> - Conditional GANs have the advantage of being able to provide better representations for multi-modal data generation\n",
    "- GANs with Inference Models(GAN推理模型)\n",
    "> - Several techniques have been proposed to invert the generator of pre-trained GANs\n",
    "> - The independently proposed Adversarially Learned Inference (ALI) and Bidirectional GANs\n",
    "- Adversarial Autoencoders (AAE)(對抗自編碼器)\n",
    "> - Autoencoders are networks, composed of an “encoder” and “decoder”, that learn to map data to an internal latent representation and out again."
   ]
  },
  {
   "cell_type": "markdown",
   "metadata": {},
   "source": [
    "### The Structure of  Latent Space (潛在的空間結構)"
   ]
  },
  {
   "cell_type": "markdown",
   "metadata": {},
   "source": [
    "-"
   ]
  },
  {
   "cell_type": "markdown",
   "metadata": {},
   "source": [
    "### Applications of GANs\n",
    "- Image synthesis remains a core GAN capability, and is especially useful when the generated image can be subject to pre-existing constraints."
   ]
  },
  {
   "cell_type": "markdown",
   "metadata": {},
   "source": [
    "- Classification and Regression(分類與回歸)\n",
    "- Image Synthesis(影像合成)\n",
    "> - 最近GAN研究大部分都致力於提高圖像生成功能的質量和實用性\n",
    "> - LAPGAN模型在拉普拉斯金字塔框架內引入了一系列卷積網絡，以粗略到精細的方式生成圖像，此外還擴展了GAN模型的條件版本，其中G和D網絡都接收附加標籤信息作為輸入，現在是提高圖像質量的常用做法\n",
    "> - 這種GAN調節的想法後來擴展到包含自然語言\n",
    "> - GAWWN系統支持交互式界面，其中可以使用部件和用戶提供的邊界框的文本描述逐步建立大型圖像\n",
    "- Image-to-image translation(輸入圖像轉換為輸出圖像)\n",
    "> - Conditional GANs非常適合將輸入圖像轉換為輸出圖像\n",
    "> - pix2pix模型為這一系列問題提供了通用解決方案\n",
    "> - CycleGAN通過引入循環一致性損失來擴展這項工作，該循環一致性損失試圖在翻譯和反向翻譯(translation and reverse translation)循環之後保留原始圖像。 \n",
    "- Super-resolution(超分辨率)\n",
    "> - 超分辨率允許從較低分辨率的圖像生成高分辨率圖像，經過訓練的模型在上採樣時推斷照片般逼真的細節。\n",
    "> - SRGAN模型通過添加loss component來擴展早期的工作\n",
    "> - the adversarial loss is one component of a larger loss function, which also includes perceptual loss from a pretrained classifier, and a regularization loss that encourages spatially coherent images"
   ]
  },
  {
   "cell_type": "markdown",
   "metadata": {},
   "source": [
    "### 心得"
   ]
  },
  {
   "cell_type": "markdown",
   "metadata": {},
   "source": [
    "- 潛在的空間結構議題\n",
    "- Conditional GANs的優勢在於可以對多形式的資料生成提供更好的表徵(此特性要記得）\n",
    "- 整個看下來，GANs大量被應用在圖像上，有機會可以思考還有沒有除了圖像，文字之外的應用"
   ]
  },
  {
   "cell_type": "markdown",
   "metadata": {},
   "source": [
    "## 問題"
   ]
  },
  {
   "cell_type": "markdown",
   "metadata": {},
   "source": [
    "- All (vanilla) GAN models : 找不到這個是什麼\n",
    "- translation and reverse translation << 這個是不是跟convolution 與 deconvolution的概念有點接近？\n",
    "- the adversarial loss is one component of a larger loss function << 這邊比較納悶的，為什麼還能造就超分辨率的結果？"
   ]
  },
  {
   "cell_type": "code",
   "execution_count": null,
   "metadata": {},
   "outputs": [],
   "source": []
  }
 ],
 "metadata": {
  "kernelspec": {
   "display_name": "Python 3",
   "language": "python",
   "name": "python3"
  },
  "language_info": {
   "codemirror_mode": {
    "name": "ipython",
    "version": 3
   },
   "file_extension": ".py",
   "mimetype": "text/x-python",
   "name": "python",
   "nbconvert_exporter": "python",
   "pygments_lexer": "ipython3",
   "version": "3.6.4"
  }
 },
 "nbformat": 4,
 "nbformat_minor": 2
}
