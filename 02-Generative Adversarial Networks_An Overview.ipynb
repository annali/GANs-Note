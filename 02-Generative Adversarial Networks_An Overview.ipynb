{
 "cells": [
  {
   "cell_type": "markdown",
   "metadata": {},
   "source": [
    "# Generative Adversarial Networks: An Overview"
   ]
  },
  {
   "cell_type": "markdown",
   "metadata": {},
   "source": [
    "[論文:Generative Adversarial Networks: An Overview](https://github.com/annali/GANs-Note/blob/master/papers/Generative%20Adversarial%20Networks-%20An%20Overview.pdf)"
   ]
  },
  {
   "cell_type": "markdown",
   "metadata": {},
   "source": [
    "- 這篇論文的目的是為訊號處理社群做一個 GAN 的概觀彙整。除了介紹訓練和構建 GAN 的不同方法以外，還討論了其理論和應用中尚存在的挑戰。\n",
    "- GAN 學習的表徵可用於多種應用，包括影象合成、語義影象編輯、風格遷移、影象超解析度技術和分類。"
   ]
  },
  {
   "cell_type": "markdown",
   "metadata": {},
   "source": [
    "### Anna主要是進行以下了解:\n",
    "- GAN Architectures\n",
    "- The Structure of  Latent Space \n",
    "- Applications of GANs\n",
    "- Discussion"
   ]
  },
  {
   "cell_type": "markdown",
   "metadata": {},
   "source": [
    "### GAN Architectures"
   ]
  },
  {
   "cell_type": "markdown",
   "metadata": {},
   "source": [
    "- Fully Connected GANs\n",
    "> - The first GAN architectures used fully connected neural networks for both the generator and discriminator\n",
    "> - Dataset : MNIST , CIFAR-10 , Toronto Face Dataset\n",
    "- Convolutional GANs\n",
    "- Conditional GANs\n",
    "> - Extended the (2D) GAN framework to the conditional setting by making both the generator and the discriminator networks class-conditional\n",
    "> - Conditional GANs have the advantage of being able to provide better representations for multi-modal data generation\n",
    "- GANs with Inference Models(GAN推理模型)\n",
    "> - Several techniques have been proposed to invert the generator of pre-trained GANs\n",
    "> - The independently proposed Adversarially Learned Inference (ALI) and Bidirectional GANs\n",
    "- Adversarial Autoencoders (AAE)"
   ]
  },
  {
   "cell_type": "markdown",
   "metadata": {},
   "source": [
    "### The Structure of  Latent Space (潛在的空間結構)"
   ]
  },
  {
   "cell_type": "code",
   "execution_count": null,
   "metadata": {},
   "outputs": [],
   "source": []
  },
  {
   "cell_type": "markdown",
   "metadata": {},
   "source": [
    "### Applications of GANs"
   ]
  },
  {
   "cell_type": "markdown",
   "metadata": {},
   "source": [
    "- Classification and Regression\n",
    "- Image Synthesis\n",
    "- Image-to-image translation\n",
    "- Super-resolution"
   ]
  },
  {
   "cell_type": "markdown",
   "metadata": {},
   "source": [
    "### Discussion"
   ]
  },
  {
   "cell_type": "markdown",
   "metadata": {},
   "source": [
    "- Open Questions\n",
    "- Conclusions"
   ]
  },
  {
   "cell_type": "markdown",
   "metadata": {},
   "source": [
    "### 心得"
   ]
  },
  {
   "cell_type": "markdown",
   "metadata": {},
   "source": [
    "- 潛在的空間結構議題\n",
    "- Conditional GANs的優勢在於可以對多形式的資料生成提供更好的表徵(此特性要記得）"
   ]
  },
  {
   "cell_type": "code",
   "execution_count": null,
   "metadata": {},
   "outputs": [],
   "source": []
  }
 ],
 "metadata": {
  "kernelspec": {
   "display_name": "Python 3",
   "language": "python",
   "name": "python3"
  },
  "language_info": {
   "codemirror_mode": {
    "name": "ipython",
    "version": 3
   },
   "file_extension": ".py",
   "mimetype": "text/x-python",
   "name": "python",
   "nbconvert_exporter": "python",
   "pygments_lexer": "ipython3",
   "version": "3.6.4"
  }
 },
 "nbformat": 4,
 "nbformat_minor": 2
}
